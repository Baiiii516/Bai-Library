{
 "cells": [
  {
   "cell_type": "markdown",
   "metadata": {},
   "source": [
    "---\n",
    "\n",
    "_You are currently looking at **version 1.5** of this notebook. To download notebooks and datafiles, as well as get help on Jupyter notebooks in the Coursera platform, visit the [Jupyter Notebook FAQ](https://www.coursera.org/learn/python-data-analysis/resources/0dhYG) course resource._\n",
    "\n",
    "---"
   ]
  },
  {
   "cell_type": "markdown",
   "metadata": {},
   "source": [
    "# Assignment 3 - More Pandas\n",
    "This assignment requires more individual learning then the last one did - you are encouraged to check out the [pandas documentation](http://pandas.pydata.org/pandas-docs/stable/) to find functions or methods you might not have used yet, or ask questions on [Stack Overflow](http://stackoverflow.com/) and tag them as pandas and python related. And of course, the discussion forums are open for interaction with your peers and the course staff."
   ]
  },
  {
   "cell_type": "markdown",
   "metadata": {},
   "source": [
    "### Question 1 (20%)\n",
    "Load the energy data from the file `Energy Indicators.xls`, which is a list of indicators of [energy supply and renewable electricity production](Energy%20Indicators.xls) from the [United Nations](http://unstats.un.org/unsd/environment/excel_file_tables/2013/Energy%20Indicators.xls) for the year 2013, and should be put into a DataFrame with the variable name of **energy**.\n",
    "\n",
    "Keep in mind that this is an Excel file, and not a comma separated values file. Also, make sure to exclude the footer and header information from the datafile. The first two columns are unneccessary, so you should get rid of them, and you should change the column labels so that the columns are:\n",
    "\n",
    "`['Country', 'Energy Supply', 'Energy Supply per Capita', '% Renewable']`\n",
    "\n",
    "Convert `Energy Supply` to gigajoules (there are 1,000,000 gigajoules in a petajoule). For all countries which have missing data (e.g. data with \"...\") make sure this is reflected as `np.NaN` values.\n",
    "\n",
    "Rename the following list of countries (for use in later questions):\n",
    "\n",
    "```\"Republic of Korea\": \"South Korea\",\n",
    "\"United States of America\": \"United States\",\n",
    "\"United Kingdom of Great Britain and Northern Ireland\": \"United Kingdom\",\n",
    "\"China, Hong Kong Special Administrative Region\": \"Hong Kong\"```\n",
    "\n",
    "There are also several countries with numbers and/or parenthesis in their name. Be sure to remove these, \n",
    "\n",
    "e.g. \n",
    "\n",
    "`'Bolivia (Plurinational State of)'` should be `'Bolivia'`, \n",
    "\n",
    "`'Switzerland17'` should be `'Switzerland'`.\n",
    "\n",
    "<br>\n",
    "\n",
    "Next, load the GDP data from the file `world_bank.csv`, which is a csv containing countries' GDP from 1960 to 2015 from [World Bank](http://data.worldbank.org/indicator/NY.GDP.MKTP.CD). Call this DataFrame **GDP**. \n",
    "\n",
    "Make sure to skip the header, and rename the following list of countries:\n",
    "\n",
    "```\"Korea, Rep.\": \"South Korea\", \n",
    "\"Iran, Islamic Rep.\": \"Iran\",\n",
    "\"Hong Kong SAR, China\": \"Hong Kong\"```\n",
    "\n",
    "<br>\n",
    "\n",
    "Finally, load the [Sciamgo Journal and Country Rank data for Energy Engineering and Power Technology](http://www.scimagojr.com/countryrank.php?category=2102) from the file `scimagojr-3.xlsx`, which ranks countries based on their journal contributions in the aforementioned area. Call this DataFrame **ScimEn**.\n",
    "\n",
    "Join the three datasets: GDP, Energy, and ScimEn into a new dataset (using the intersection of country names). Use only the last 10 years (2006-2015) of GDP data and only the top 15 countries by Scimagojr 'Rank' (Rank 1 through 15). \n",
    "\n",
    "The index of this DataFrame should be the name of the country, and the columns should be ['Rank', 'Documents', 'Citable documents', 'Citations', 'Self-citations',\n",
    "       'Citations per document', 'H index', 'Energy Supply',\n",
    "       'Energy Supply per Capita', '% Renewable', '2006', '2007', '2008',\n",
    "       '2009', '2010', '2011', '2012', '2013', '2014', '2015'].\n",
    "\n",
    "*This function should return a DataFrame with 20 columns and 15 entries.*"
   ]
  },
  {
   "cell_type": "code",
   "execution_count": 278,
   "metadata": {
    "umich_part_id": "009",
    "umich_partlist_id": "003"
   },
   "outputs": [
    {
     "data": {
      "text/html": [
       "<div>\n",
       "<style scoped>\n",
       "    .dataframe tbody tr th:only-of-type {\n",
       "        vertical-align: middle;\n",
       "    }\n",
       "\n",
       "    .dataframe tbody tr th {\n",
       "        vertical-align: top;\n",
       "    }\n",
       "\n",
       "    .dataframe thead th {\n",
       "        text-align: right;\n",
       "    }\n",
       "</style>\n",
       "<table border=\"1\" class=\"dataframe\">\n",
       "  <thead>\n",
       "    <tr style=\"text-align: right;\">\n",
       "      <th></th>\n",
       "      <th>Rank</th>\n",
       "      <th>Documents</th>\n",
       "      <th>Citable documents</th>\n",
       "      <th>Citations</th>\n",
       "      <th>Self-citations</th>\n",
       "      <th>Citations per document</th>\n",
       "      <th>H index</th>\n",
       "      <th>Energy Supply</th>\n",
       "      <th>Energy Supply per Capita</th>\n",
       "      <th>% Renewable</th>\n",
       "      <th>2006</th>\n",
       "      <th>2007</th>\n",
       "      <th>2008</th>\n",
       "      <th>2009</th>\n",
       "      <th>2010</th>\n",
       "      <th>2011</th>\n",
       "      <th>2012</th>\n",
       "      <th>2013</th>\n",
       "      <th>2014</th>\n",
       "      <th>2015</th>\n",
       "    </tr>\n",
       "    <tr>\n",
       "      <th>Country</th>\n",
       "      <th></th>\n",
       "      <th></th>\n",
       "      <th></th>\n",
       "      <th></th>\n",
       "      <th></th>\n",
       "      <th></th>\n",
       "      <th></th>\n",
       "      <th></th>\n",
       "      <th></th>\n",
       "      <th></th>\n",
       "      <th></th>\n",
       "      <th></th>\n",
       "      <th></th>\n",
       "      <th></th>\n",
       "      <th></th>\n",
       "      <th></th>\n",
       "      <th></th>\n",
       "      <th></th>\n",
       "      <th></th>\n",
       "      <th></th>\n",
       "    </tr>\n",
       "  </thead>\n",
       "  <tbody>\n",
       "    <tr>\n",
       "      <td>Australia</td>\n",
       "      <td>14</td>\n",
       "      <td>18077</td>\n",
       "      <td>17661</td>\n",
       "      <td>263733</td>\n",
       "      <td>44799</td>\n",
       "      <td>14.59</td>\n",
       "      <td>161</td>\n",
       "      <td>5.386000e+09</td>\n",
       "      <td>231.0</td>\n",
       "      <td>11.810810</td>\n",
       "      <td>7.460542e+11</td>\n",
       "      <td>8.530996e+11</td>\n",
       "      <td>1.053996e+12</td>\n",
       "      <td>9.278052e+11</td>\n",
       "      <td>1.146138e+12</td>\n",
       "      <td>1.396650e+12</td>\n",
       "      <td>1.546152e+12</td>\n",
       "      <td>1.576184e+12</td>\n",
       "      <td>1.467484e+12</td>\n",
       "      <td>1.351694e+12</td>\n",
       "    </tr>\n",
       "    <tr>\n",
       "      <td>Brazil</td>\n",
       "      <td>15</td>\n",
       "      <td>18024</td>\n",
       "      <td>17745</td>\n",
       "      <td>152380</td>\n",
       "      <td>37112</td>\n",
       "      <td>8.45</td>\n",
       "      <td>121</td>\n",
       "      <td>1.214900e+10</td>\n",
       "      <td>59.0</td>\n",
       "      <td>69.648030</td>\n",
       "      <td>1.107640e+12</td>\n",
       "      <td>1.397084e+12</td>\n",
       "      <td>1.695825e+12</td>\n",
       "      <td>1.667020e+12</td>\n",
       "      <td>2.208872e+12</td>\n",
       "      <td>2.616201e+12</td>\n",
       "      <td>2.465189e+12</td>\n",
       "      <td>2.472807e+12</td>\n",
       "      <td>2.455994e+12</td>\n",
       "      <td>1.802214e+12</td>\n",
       "    </tr>\n",
       "    <tr>\n",
       "      <td>Canada</td>\n",
       "      <td>8</td>\n",
       "      <td>29633</td>\n",
       "      <td>29011</td>\n",
       "      <td>491467</td>\n",
       "      <td>88987</td>\n",
       "      <td>16.59</td>\n",
       "      <td>210</td>\n",
       "      <td>1.043100e+10</td>\n",
       "      <td>296.0</td>\n",
       "      <td>61.945430</td>\n",
       "      <td>1.315415e+12</td>\n",
       "      <td>1.464977e+12</td>\n",
       "      <td>1.549131e+12</td>\n",
       "      <td>1.371153e+12</td>\n",
       "      <td>1.613543e+12</td>\n",
       "      <td>1.789141e+12</td>\n",
       "      <td>1.823967e+12</td>\n",
       "      <td>1.842018e+12</td>\n",
       "      <td>1.801480e+12</td>\n",
       "      <td>1.552900e+12</td>\n",
       "    </tr>\n",
       "    <tr>\n",
       "      <td>China</td>\n",
       "      <td>1</td>\n",
       "      <td>235126</td>\n",
       "      <td>233883</td>\n",
       "      <td>1909601</td>\n",
       "      <td>1306438</td>\n",
       "      <td>8.12</td>\n",
       "      <td>224</td>\n",
       "      <td>1.271910e+11</td>\n",
       "      <td>93.0</td>\n",
       "      <td>19.754910</td>\n",
       "      <td>2.752132e+12</td>\n",
       "      <td>3.550342e+12</td>\n",
       "      <td>4.594307e+12</td>\n",
       "      <td>5.101702e+12</td>\n",
       "      <td>6.087165e+12</td>\n",
       "      <td>7.551500e+12</td>\n",
       "      <td>8.532231e+12</td>\n",
       "      <td>9.570406e+12</td>\n",
       "      <td>1.043853e+13</td>\n",
       "      <td>1.101554e+13</td>\n",
       "    </tr>\n",
       "    <tr>\n",
       "      <td>France</td>\n",
       "      <td>11</td>\n",
       "      <td>22429</td>\n",
       "      <td>21913</td>\n",
       "      <td>300015</td>\n",
       "      <td>58151</td>\n",
       "      <td>13.38</td>\n",
       "      <td>169</td>\n",
       "      <td>1.059700e+10</td>\n",
       "      <td>166.0</td>\n",
       "      <td>17.020280</td>\n",
       "      <td>2.318594e+12</td>\n",
       "      <td>2.657213e+12</td>\n",
       "      <td>2.918383e+12</td>\n",
       "      <td>2.690222e+12</td>\n",
       "      <td>2.642610e+12</td>\n",
       "      <td>2.861408e+12</td>\n",
       "      <td>2.683825e+12</td>\n",
       "      <td>2.811078e+12</td>\n",
       "      <td>2.852166e+12</td>\n",
       "      <td>2.438208e+12</td>\n",
       "    </tr>\n",
       "    <tr>\n",
       "      <td>Germany</td>\n",
       "      <td>6</td>\n",
       "      <td>32935</td>\n",
       "      <td>32227</td>\n",
       "      <td>367356</td>\n",
       "      <td>78265</td>\n",
       "      <td>11.15</td>\n",
       "      <td>186</td>\n",
       "      <td>1.326100e+10</td>\n",
       "      <td>165.0</td>\n",
       "      <td>17.901530</td>\n",
       "      <td>2.992197e+12</td>\n",
       "      <td>3.421229e+12</td>\n",
       "      <td>3.730028e+12</td>\n",
       "      <td>3.397791e+12</td>\n",
       "      <td>3.396354e+12</td>\n",
       "      <td>3.744409e+12</td>\n",
       "      <td>3.527345e+12</td>\n",
       "      <td>3.732743e+12</td>\n",
       "      <td>3.883920e+12</td>\n",
       "      <td>3.360550e+12</td>\n",
       "    </tr>\n",
       "    <tr>\n",
       "      <td>India</td>\n",
       "      <td>4</td>\n",
       "      <td>39893</td>\n",
       "      <td>38848</td>\n",
       "      <td>368175</td>\n",
       "      <td>123446</td>\n",
       "      <td>9.23</td>\n",
       "      <td>171</td>\n",
       "      <td>3.319500e+10</td>\n",
       "      <td>26.0</td>\n",
       "      <td>14.969080</td>\n",
       "      <td>9.402599e+11</td>\n",
       "      <td>1.216735e+12</td>\n",
       "      <td>1.198896e+12</td>\n",
       "      <td>1.341887e+12</td>\n",
       "      <td>1.675615e+12</td>\n",
       "      <td>1.823050e+12</td>\n",
       "      <td>1.827638e+12</td>\n",
       "      <td>1.856722e+12</td>\n",
       "      <td>2.039127e+12</td>\n",
       "      <td>2.103588e+12</td>\n",
       "    </tr>\n",
       "    <tr>\n",
       "      <td>Iran</td>\n",
       "      <td>12</td>\n",
       "      <td>19371</td>\n",
       "      <td>19085</td>\n",
       "      <td>242250</td>\n",
       "      <td>77012</td>\n",
       "      <td>12.51</td>\n",
       "      <td>127</td>\n",
       "      <td>9.172000e+09</td>\n",
       "      <td>119.0</td>\n",
       "      <td>5.707721</td>\n",
       "      <td>2.662989e+11</td>\n",
       "      <td>3.498816e+11</td>\n",
       "      <td>4.060709e+11</td>\n",
       "      <td>4.140591e+11</td>\n",
       "      <td>4.870696e+11</td>\n",
       "      <td>5.835004e+11</td>\n",
       "      <td>5.988534e+11</td>\n",
       "      <td>4.674149e+11</td>\n",
       "      <td>4.344746e+11</td>\n",
       "      <td>3.858745e+11</td>\n",
       "    </tr>\n",
       "    <tr>\n",
       "      <td>Italy</td>\n",
       "      <td>9</td>\n",
       "      <td>23725</td>\n",
       "      <td>22819</td>\n",
       "      <td>312631</td>\n",
       "      <td>76446</td>\n",
       "      <td>13.18</td>\n",
       "      <td>155</td>\n",
       "      <td>6.530000e+09</td>\n",
       "      <td>109.0</td>\n",
       "      <td>33.667230</td>\n",
       "      <td>1.947920e+12</td>\n",
       "      <td>2.210293e+12</td>\n",
       "      <td>2.398857e+12</td>\n",
       "      <td>2.191242e+12</td>\n",
       "      <td>2.134018e+12</td>\n",
       "      <td>2.291991e+12</td>\n",
       "      <td>2.087077e+12</td>\n",
       "      <td>2.141315e+12</td>\n",
       "      <td>2.159134e+12</td>\n",
       "      <td>1.835899e+12</td>\n",
       "    </tr>\n",
       "    <tr>\n",
       "      <td>Japan</td>\n",
       "      <td>3</td>\n",
       "      <td>46032</td>\n",
       "      <td>45559</td>\n",
       "      <td>436961</td>\n",
       "      <td>109968</td>\n",
       "      <td>9.49</td>\n",
       "      <td>181</td>\n",
       "      <td>1.898400e+10</td>\n",
       "      <td>149.0</td>\n",
       "      <td>10.232820</td>\n",
       "      <td>4.530377e+12</td>\n",
       "      <td>4.515265e+12</td>\n",
       "      <td>5.037908e+12</td>\n",
       "      <td>5.231383e+12</td>\n",
       "      <td>5.700098e+12</td>\n",
       "      <td>6.157460e+12</td>\n",
       "      <td>6.203213e+12</td>\n",
       "      <td>5.155717e+12</td>\n",
       "      <td>4.850414e+12</td>\n",
       "      <td>4.389476e+12</td>\n",
       "    </tr>\n",
       "    <tr>\n",
       "      <td>Russian Federation</td>\n",
       "      <td>7</td>\n",
       "      <td>31880</td>\n",
       "      <td>31664</td>\n",
       "      <td>91906</td>\n",
       "      <td>42529</td>\n",
       "      <td>2.88</td>\n",
       "      <td>84</td>\n",
       "      <td>3.070900e+10</td>\n",
       "      <td>214.0</td>\n",
       "      <td>17.288680</td>\n",
       "      <td>9.899305e+11</td>\n",
       "      <td>1.299706e+12</td>\n",
       "      <td>1.660846e+12</td>\n",
       "      <td>1.222644e+12</td>\n",
       "      <td>1.524917e+12</td>\n",
       "      <td>2.051662e+12</td>\n",
       "      <td>2.210257e+12</td>\n",
       "      <td>2.297128e+12</td>\n",
       "      <td>2.059984e+12</td>\n",
       "      <td>1.363594e+12</td>\n",
       "    </tr>\n",
       "    <tr>\n",
       "      <td>South Korea</td>\n",
       "      <td>10</td>\n",
       "      <td>23451</td>\n",
       "      <td>23166</td>\n",
       "      <td>279709</td>\n",
       "      <td>53110</td>\n",
       "      <td>11.93</td>\n",
       "      <td>146</td>\n",
       "      <td>1.100700e+10</td>\n",
       "      <td>221.0</td>\n",
       "      <td>2.279353</td>\n",
       "      <td>1.011797e+12</td>\n",
       "      <td>1.122679e+12</td>\n",
       "      <td>1.002219e+12</td>\n",
       "      <td>9.019350e+11</td>\n",
       "      <td>1.094499e+12</td>\n",
       "      <td>1.202464e+12</td>\n",
       "      <td>1.222807e+12</td>\n",
       "      <td>1.305605e+12</td>\n",
       "      <td>1.411334e+12</td>\n",
       "      <td>1.382764e+12</td>\n",
       "    </tr>\n",
       "    <tr>\n",
       "      <td>Spain</td>\n",
       "      <td>13</td>\n",
       "      <td>18882</td>\n",
       "      <td>18529</td>\n",
       "      <td>312632</td>\n",
       "      <td>56968</td>\n",
       "      <td>16.56</td>\n",
       "      <td>163</td>\n",
       "      <td>4.923000e+09</td>\n",
       "      <td>106.0</td>\n",
       "      <td>37.968590</td>\n",
       "      <td>1.259344e+12</td>\n",
       "      <td>1.472131e+12</td>\n",
       "      <td>1.625225e+12</td>\n",
       "      <td>1.485583e+12</td>\n",
       "      <td>1.420722e+12</td>\n",
       "      <td>1.478773e+12</td>\n",
       "      <td>1.324820e+12</td>\n",
       "      <td>1.354757e+12</td>\n",
       "      <td>1.369399e+12</td>\n",
       "      <td>1.195119e+12</td>\n",
       "    </tr>\n",
       "    <tr>\n",
       "      <td>United Kingdom</td>\n",
       "      <td>5</td>\n",
       "      <td>38873</td>\n",
       "      <td>37780</td>\n",
       "      <td>536378</td>\n",
       "      <td>100038</td>\n",
       "      <td>13.80</td>\n",
       "      <td>208</td>\n",
       "      <td>7.920000e+09</td>\n",
       "      <td>124.0</td>\n",
       "      <td>10.600470</td>\n",
       "      <td>2.713750e+12</td>\n",
       "      <td>3.100882e+12</td>\n",
       "      <td>2.922667e+12</td>\n",
       "      <td>2.410910e+12</td>\n",
       "      <td>2.475244e+12</td>\n",
       "      <td>2.659310e+12</td>\n",
       "      <td>2.704888e+12</td>\n",
       "      <td>2.786023e+12</td>\n",
       "      <td>3.063803e+12</td>\n",
       "      <td>2.928591e+12</td>\n",
       "    </tr>\n",
       "    <tr>\n",
       "      <td>United States</td>\n",
       "      <td>2</td>\n",
       "      <td>157811</td>\n",
       "      <td>154288</td>\n",
       "      <td>1940563</td>\n",
       "      <td>639345</td>\n",
       "      <td>12.30</td>\n",
       "      <td>333</td>\n",
       "      <td>9.083800e+10</td>\n",
       "      <td>286.0</td>\n",
       "      <td>11.570980</td>\n",
       "      <td>1.381461e+13</td>\n",
       "      <td>1.445186e+13</td>\n",
       "      <td>1.471284e+13</td>\n",
       "      <td>1.444893e+13</td>\n",
       "      <td>1.499205e+13</td>\n",
       "      <td>1.554258e+13</td>\n",
       "      <td>1.619701e+13</td>\n",
       "      <td>1.678485e+13</td>\n",
       "      <td>1.752175e+13</td>\n",
       "      <td>1.821930e+13</td>\n",
       "    </tr>\n",
       "  </tbody>\n",
       "</table>\n",
       "</div>"
      ],
      "text/plain": [
       "                    Rank  Documents  Citable documents  Citations  \\\n",
       "Country                                                             \n",
       "Australia             14      18077              17661     263733   \n",
       "Brazil                15      18024              17745     152380   \n",
       "Canada                 8      29633              29011     491467   \n",
       "China                  1     235126             233883    1909601   \n",
       "France                11      22429              21913     300015   \n",
       "Germany                6      32935              32227     367356   \n",
       "India                  4      39893              38848     368175   \n",
       "Iran                  12      19371              19085     242250   \n",
       "Italy                  9      23725              22819     312631   \n",
       "Japan                  3      46032              45559     436961   \n",
       "Russian Federation     7      31880              31664      91906   \n",
       "South Korea           10      23451              23166     279709   \n",
       "Spain                 13      18882              18529     312632   \n",
       "United Kingdom         5      38873              37780     536378   \n",
       "United States          2     157811             154288    1940563   \n",
       "\n",
       "                    Self-citations  Citations per document  H index  \\\n",
       "Country                                                               \n",
       "Australia                    44799                   14.59      161   \n",
       "Brazil                       37112                    8.45      121   \n",
       "Canada                       88987                   16.59      210   \n",
       "China                      1306438                    8.12      224   \n",
       "France                       58151                   13.38      169   \n",
       "Germany                      78265                   11.15      186   \n",
       "India                       123446                    9.23      171   \n",
       "Iran                         77012                   12.51      127   \n",
       "Italy                        76446                   13.18      155   \n",
       "Japan                       109968                    9.49      181   \n",
       "Russian Federation           42529                    2.88       84   \n",
       "South Korea                  53110                   11.93      146   \n",
       "Spain                        56968                   16.56      163   \n",
       "United Kingdom              100038                   13.80      208   \n",
       "United States               639345                   12.30      333   \n",
       "\n",
       "                    Energy Supply  Energy Supply per Capita  % Renewable  \\\n",
       "Country                                                                    \n",
       "Australia            5.386000e+09                     231.0    11.810810   \n",
       "Brazil               1.214900e+10                      59.0    69.648030   \n",
       "Canada               1.043100e+10                     296.0    61.945430   \n",
       "China                1.271910e+11                      93.0    19.754910   \n",
       "France               1.059700e+10                     166.0    17.020280   \n",
       "Germany              1.326100e+10                     165.0    17.901530   \n",
       "India                3.319500e+10                      26.0    14.969080   \n",
       "Iran                 9.172000e+09                     119.0     5.707721   \n",
       "Italy                6.530000e+09                     109.0    33.667230   \n",
       "Japan                1.898400e+10                     149.0    10.232820   \n",
       "Russian Federation   3.070900e+10                     214.0    17.288680   \n",
       "South Korea          1.100700e+10                     221.0     2.279353   \n",
       "Spain                4.923000e+09                     106.0    37.968590   \n",
       "United Kingdom       7.920000e+09                     124.0    10.600470   \n",
       "United States        9.083800e+10                     286.0    11.570980   \n",
       "\n",
       "                            2006          2007          2008          2009  \\\n",
       "Country                                                                      \n",
       "Australia           7.460542e+11  8.530996e+11  1.053996e+12  9.278052e+11   \n",
       "Brazil              1.107640e+12  1.397084e+12  1.695825e+12  1.667020e+12   \n",
       "Canada              1.315415e+12  1.464977e+12  1.549131e+12  1.371153e+12   \n",
       "China               2.752132e+12  3.550342e+12  4.594307e+12  5.101702e+12   \n",
       "France              2.318594e+12  2.657213e+12  2.918383e+12  2.690222e+12   \n",
       "Germany             2.992197e+12  3.421229e+12  3.730028e+12  3.397791e+12   \n",
       "India               9.402599e+11  1.216735e+12  1.198896e+12  1.341887e+12   \n",
       "Iran                2.662989e+11  3.498816e+11  4.060709e+11  4.140591e+11   \n",
       "Italy               1.947920e+12  2.210293e+12  2.398857e+12  2.191242e+12   \n",
       "Japan               4.530377e+12  4.515265e+12  5.037908e+12  5.231383e+12   \n",
       "Russian Federation  9.899305e+11  1.299706e+12  1.660846e+12  1.222644e+12   \n",
       "South Korea         1.011797e+12  1.122679e+12  1.002219e+12  9.019350e+11   \n",
       "Spain               1.259344e+12  1.472131e+12  1.625225e+12  1.485583e+12   \n",
       "United Kingdom      2.713750e+12  3.100882e+12  2.922667e+12  2.410910e+12   \n",
       "United States       1.381461e+13  1.445186e+13  1.471284e+13  1.444893e+13   \n",
       "\n",
       "                            2010          2011          2012          2013  \\\n",
       "Country                                                                      \n",
       "Australia           1.146138e+12  1.396650e+12  1.546152e+12  1.576184e+12   \n",
       "Brazil              2.208872e+12  2.616201e+12  2.465189e+12  2.472807e+12   \n",
       "Canada              1.613543e+12  1.789141e+12  1.823967e+12  1.842018e+12   \n",
       "China               6.087165e+12  7.551500e+12  8.532231e+12  9.570406e+12   \n",
       "France              2.642610e+12  2.861408e+12  2.683825e+12  2.811078e+12   \n",
       "Germany             3.396354e+12  3.744409e+12  3.527345e+12  3.732743e+12   \n",
       "India               1.675615e+12  1.823050e+12  1.827638e+12  1.856722e+12   \n",
       "Iran                4.870696e+11  5.835004e+11  5.988534e+11  4.674149e+11   \n",
       "Italy               2.134018e+12  2.291991e+12  2.087077e+12  2.141315e+12   \n",
       "Japan               5.700098e+12  6.157460e+12  6.203213e+12  5.155717e+12   \n",
       "Russian Federation  1.524917e+12  2.051662e+12  2.210257e+12  2.297128e+12   \n",
       "South Korea         1.094499e+12  1.202464e+12  1.222807e+12  1.305605e+12   \n",
       "Spain               1.420722e+12  1.478773e+12  1.324820e+12  1.354757e+12   \n",
       "United Kingdom      2.475244e+12  2.659310e+12  2.704888e+12  2.786023e+12   \n",
       "United States       1.499205e+13  1.554258e+13  1.619701e+13  1.678485e+13   \n",
       "\n",
       "                            2014          2015  \n",
       "Country                                         \n",
       "Australia           1.467484e+12  1.351694e+12  \n",
       "Brazil              2.455994e+12  1.802214e+12  \n",
       "Canada              1.801480e+12  1.552900e+12  \n",
       "China               1.043853e+13  1.101554e+13  \n",
       "France              2.852166e+12  2.438208e+12  \n",
       "Germany             3.883920e+12  3.360550e+12  \n",
       "India               2.039127e+12  2.103588e+12  \n",
       "Iran                4.344746e+11  3.858745e+11  \n",
       "Italy               2.159134e+12  1.835899e+12  \n",
       "Japan               4.850414e+12  4.389476e+12  \n",
       "Russian Federation  2.059984e+12  1.363594e+12  \n",
       "South Korea         1.411334e+12  1.382764e+12  \n",
       "Spain               1.369399e+12  1.195119e+12  \n",
       "United Kingdom      3.063803e+12  2.928591e+12  \n",
       "United States       1.752175e+13  1.821930e+13  "
      ]
     },
     "execution_count": 278,
     "metadata": {},
     "output_type": "execute_result"
    }
   ],
   "source": [
    "def answer_one():\n",
    "    import pandas as pd\n",
    "    import numpy as np\n",
    "    pd.set_option('display.max_rows', None)\n",
    "    energy = pd.read_excel('Energy Indicators.xls', sheet_name = 'Energy',skiprows=17,skipfooter=38, parse_cols='C:F')\n",
    "    energy.columns = ['Country', 'Energy Supply', 'Energy Supply per Capita', '% Renewable']\n",
    "    energy = energy.dropna()\n",
    "    energy = energy.reset_index()\n",
    "    energy.replace('...', np.NaN, inplace = True)\n",
    "    energy['Energy Supply'] *= 1000000\n",
    "    energy['Country'] = energy['Country'].str.replace(' \\(.*\\)','')#这里面不要少了“后面的空格\n",
    "    energy['Country'] = energy['Country'].str.replace('([0-9]+)$','')\n",
    "    energy['Country'] = energy['Country'].replace({'Republic of Korea': 'South Korea', 'United States of America': 'United States', 'United Kingdom of Great Britain and Northern Ireland': 'United Kingdom', 'China, Hong Kong Special Administrative Region': 'Hong Kong'})\n",
    "    energy = energy.set_index('Country')\n",
    "    \n",
    "    GDP = pd.read_csv('world_bank.csv', skiprows = 4)\n",
    "    GDP = GDP.set_index('Country Name')\n",
    "    GDP.rename(index = {'Korea, Rep.': 'South Korea', 'Iran, Islamic Rep.': 'Iran', 'Hong Kong SAR, China': 'Hong Kong'}, inplace = True)\n",
    "    GDP = GDP.reset_index().rename(columns = {'Country Name': 'Country'})\n",
    "    GDP = GDP.set_index('Country')\n",
    "    list1 = np.arange(2006, 2016).astype(str)\n",
    "    GDP = GDP[list1]\n",
    "    \n",
    "    ScimEn = pd.read_excel('scimagojr-3.xlsx', header = 0)\n",
    "    ScimEn = ScimEn.iloc[0:15]\n",
    "    ScimEn = ScimEn.set_index('Country')\n",
    "    \n",
    "    merge_1 = pd.merge(energy, GDP, how = 'outer', left_index = True, right_index = True)\n",
    "    merge_2 = pd.merge(merge_1, ScimEn, how = 'inner', left_index = True, right_index = True)\n",
    "    merge_2 = merge_2[ ['Rank', 'Documents', 'Citable documents', 'Citations', 'Self-citations', 'Citations per document', 'H index', 'Energy Supply', 'Energy Supply per Capita', '% Renewable', '2006', '2007', '2008', '2009', '2010', '2011', '2012', '2013', '2014', '2015']]\n",
    "    return merge_2\n",
    "\n",
    "answer_one()\n"
   ]
  },
  {
   "cell_type": "markdown",
   "metadata": {},
   "source": [
    "### Question 2 (6.6%)\n",
    "The previous question joined three datasets then reduced this to just the top 15 entries. When you joined the datasets, but before you reduced this to the top 15 items, how many entries did you lose?\n",
    "\n",
    "*This function should return a single number.*"
   ]
  },
  {
   "cell_type": "code",
   "execution_count": 211,
   "metadata": {},
   "outputs": [
    {
     "data": {
      "text/html": [
       "<svg width=\"800\" height=\"300\">\n",
       "  <circle cx=\"150\" cy=\"180\" r=\"80\" fill-opacity=\"0.2\" stroke=\"black\" stroke-width=\"2\" fill=\"blue\" />\n",
       "  <circle cx=\"200\" cy=\"100\" r=\"80\" fill-opacity=\"0.2\" stroke=\"black\" stroke-width=\"2\" fill=\"red\" />\n",
       "  <circle cx=\"100\" cy=\"100\" r=\"80\" fill-opacity=\"0.2\" stroke=\"black\" stroke-width=\"2\" fill=\"green\" />\n",
       "  <line x1=\"150\" y1=\"125\" x2=\"300\" y2=\"150\" stroke=\"black\" stroke-width=\"2\" fill=\"black\" stroke-dasharray=\"5,3\"/>\n",
       "  <text  x=\"300\" y=\"165\" font-family=\"Verdana\" font-size=\"35\">Everything but this!</text>\n",
       "</svg>\n"
      ],
      "text/plain": [
       "<IPython.core.display.HTML object>"
      ]
     },
     "metadata": {},
     "output_type": "display_data"
    }
   ],
   "source": [
    "%%HTML\n",
    "<svg width=\"800\" height=\"300\">\n",
    "  <circle cx=\"150\" cy=\"180\" r=\"80\" fill-opacity=\"0.2\" stroke=\"black\" stroke-width=\"2\" fill=\"blue\" />\n",
    "  <circle cx=\"200\" cy=\"100\" r=\"80\" fill-opacity=\"0.2\" stroke=\"black\" stroke-width=\"2\" fill=\"red\" />\n",
    "  <circle cx=\"100\" cy=\"100\" r=\"80\" fill-opacity=\"0.2\" stroke=\"black\" stroke-width=\"2\" fill=\"green\" />\n",
    "  <line x1=\"150\" y1=\"125\" x2=\"300\" y2=\"150\" stroke=\"black\" stroke-width=\"2\" fill=\"black\" stroke-dasharray=\"5,3\"/>\n",
    "  <text  x=\"300\" y=\"165\" font-family=\"Verdana\" font-size=\"35\">Everything but this!</text>\n",
    "</svg>"
   ]
  },
  {
   "cell_type": "code",
   "execution_count": 230,
   "metadata": {
    "umich_part_id": "010",
    "umich_partlist_id": "003"
   },
   "outputs": [
    {
     "data": {
      "text/plain": [
       "306"
      ]
     },
     "execution_count": 230,
     "metadata": {},
     "output_type": "execute_result"
    }
   ],
   "source": [
    "def answer_two():\n",
    "    pd.set_option('display.max_rows', None)\n",
    "    energy = pd.read_excel('Energy Indicators.xls', sheet_name = 'Energy')\n",
    "    energy.columns = ['Del1', 'Del2', 'Country', 'Energy Supply', 'Energy Supply per Capita', '% Renewable']\n",
    "    energy = energy.drop(columns = ['Del1','Del2'], axis = 1).dropna()\n",
    "    energy = energy.drop(index = [8, 10]).reset_index().drop(columns = 'index')\n",
    "    energy.replace('...', np.NaN, inplace = True)\n",
    "    energy['Energy Supply'] *= 1000000\n",
    "    energy['Country'] = energy['Country'].str.replace(' \\(.*\\)','')#这里面不要少了“后面的空格\n",
    "    energy['Country'] = energy['Country'].str.replace('([0-9]+)$','')\n",
    "    energy['Country'] = energy['Country'].replace({'Republic of Korea': 'South Korea', 'United States of America': 'United States', 'United Kingdom of Great Britain and Northern Ireland': 'United Kingdom', 'China, Hong Kong Special Administrative Region': 'Hong Kong'})\n",
    "    energy = energy.set_index('Country')\n",
    "    \n",
    "    GDP = pd.read_csv('world_bank.csv', skiprows = 4)\n",
    "    GDP = GDP.set_index('Country Name')\n",
    "    GDP.rename(index = {'Korea, Rep.': 'South Korea', 'Iran, Islamic Rep.': 'Iran', 'Hong Kong SAR, China': 'Hong Kong'}, inplace = True)\n",
    "    GDP = GDP.reset_index().rename(columns = {'Country Name': 'Country'})\n",
    "    GDP = GDP.set_index('Country')\n",
    "    list1 = list(range(2006,2016))\n",
    "    list1 = map(str, list1)\n",
    "    GDP = GDP[list1]\n",
    "    \n",
    "    ScimEn = pd.read_excel('scimagojr-3.xlsx', header = 0)\n",
    "    ScimEn = ScimEn.set_index('Country')\n",
    "    ScimEn2 = ScimEn.iloc[0:15]\n",
    "    \n",
    "    merge_1 = pd.merge(energy, GDP, how = 'outer', left_index = True, right_index = True)\n",
    "    merge_2 = pd.merge(merge_1, ScimEn, how = 'outer', left_index = True, right_index = True)\n",
    "    merge_3 = pd.merge(merge_1, ScimEn2, how = 'inner', left_index = True, right_index = True)\n",
    "    return len(merge_2)-len(merge_3)\n",
    "answer_two()\n"
   ]
  },
  {
   "cell_type": "markdown",
   "metadata": {},
   "source": [
    "## Answer the following questions in the context of only the top 15 countries by Scimagojr Rank (aka the DataFrame returned by `answer_one()`)"
   ]
  },
  {
   "cell_type": "markdown",
   "metadata": {},
   "source": [
    "### Question 3 (6.6%)\n",
    "What is the average GDP over the last 10 years for each country? (exclude missing values from this calculation.)\n",
    "\n",
    "*This function should return a Series named `avgGDP` with 15 countries and their average GDP sorted in descending order.*"
   ]
  },
  {
   "cell_type": "code",
   "execution_count": 285,
   "metadata": {
    "scrolled": false,
    "umich_part_id": "011",
    "umich_partlist_id": "003"
   },
   "outputs": [
    {
     "data": {
      "text/plain": [
       "Country\n",
       "United States         1.566858e+13\n",
       "China                 6.919386e+12\n",
       "Japan                 5.177131e+12\n",
       "Germany               3.518657e+12\n",
       "United Kingdom        2.776607e+12\n",
       "France                2.687371e+12\n",
       "Italy                 2.139775e+12\n",
       "Brazil                1.988885e+12\n",
       "Russian Federation    1.668067e+12\n",
       "Canada                1.612373e+12\n",
       "India                 1.602352e+12\n",
       "Spain                 1.398587e+12\n",
       "Australia             1.206526e+12\n",
       "South Korea           1.165810e+12\n",
       "Iran                  4.393498e+11\n",
       "Name: avgGDP, dtype: float64"
      ]
     },
     "execution_count": 285,
     "metadata": {},
     "output_type": "execute_result"
    }
   ],
   "source": [
    "def answer_three():\n",
    "    Top15 = answer_one()\n",
    "    list1 = list(range(2006,2016))\n",
    "    list1 = map(str, list1)\n",
    "    Top15['avgGDP'] = Top15[list1].mean(axis = 1)\n",
    "    return Top15['avgGDP'].sort_values(ascending = False)\n",
    "answer_three()"
   ]
  },
  {
   "cell_type": "markdown",
   "metadata": {},
   "source": [
    "### Question 4 (6.6%)\n",
    "By how much had the GDP changed over the 10 year span for the country with the 6th largest average GDP?\n",
    "\n",
    "*This function should return a single number.*"
   ]
  },
  {
   "cell_type": "code",
   "execution_count": 271,
   "metadata": {
    "scrolled": true,
    "umich_part_id": "012",
    "umich_partlist_id": "003"
   },
   "outputs": [
    {
     "data": {
      "text/plain": [
       "119614244263.37988"
      ]
     },
     "execution_count": 271,
     "metadata": {},
     "output_type": "execute_result"
    }
   ],
   "source": [
    "def answer_four():\n",
    "    Top15 = answer_one()\n",
    "    list1 = list(range(2006,2016))\n",
    "    list1 = map(str, list1)\n",
    "    Top15['avgGDP'] = Top15[list1].mean(axis = 1)\n",
    "    Top15 = Top15.sort_values(['avgGDP'], ascending = False)\n",
    "    Top15['delta_GDP'] = Top15['2015']-Top15['2006']\n",
    "    delta_GDP_6th = Top15['delta_GDP'].iloc[5]\n",
    "    return delta_GDP_6th\n",
    "answer_four()"
   ]
  },
  {
   "cell_type": "markdown",
   "metadata": {},
   "source": [
    "### Question 5 (6.6%)\n",
    "What is the mean `Energy Supply per Capita`?\n",
    "\n",
    "*This function should return a single number.*"
   ]
  },
  {
   "cell_type": "code",
   "execution_count": 283,
   "metadata": {
    "umich_part_id": "013",
    "umich_partlist_id": "003"
   },
   "outputs": [
    {
     "data": {
      "text/plain": [
       "157.6"
      ]
     },
     "execution_count": 283,
     "metadata": {},
     "output_type": "execute_result"
    }
   ],
   "source": [
    "def answer_five():\n",
    "    Top15 = answer_one()\n",
    "    mean = Top15['Energy Supply per Capita'].mean(axis = 0)\n",
    "    return mean\n",
    "answer_five()"
   ]
  },
  {
   "cell_type": "markdown",
   "metadata": {},
   "source": [
    "### Question 6 (6.6%)\n",
    "What country has the maximum % Renewable and what is the percentage?\n",
    "\n",
    "*This function should return a tuple with the name of the country and the percentage.*"
   ]
  },
  {
   "cell_type": "code",
   "execution_count": 290,
   "metadata": {
    "umich_part_id": "014",
    "umich_partlist_id": "003"
   },
   "outputs": [
    {
     "name": "stderr",
     "output_type": "stream",
     "text": [
      "/Users/baiyiwei/opt/anaconda3/lib/python3.7/site-packages/ipykernel_launcher.py:3: FutureWarning: \n",
      "The current behaviour of 'Series.argmax' is deprecated, use 'idxmax'\n",
      "instead.\n",
      "The behavior of 'argmax' will be corrected to return the positional\n",
      "maximum in the future. For now, use 'series.values.argmax' or\n",
      "'np.argmax(np.array(values))' to get the position of the maximum\n",
      "row.\n",
      "  This is separate from the ipykernel package so we can avoid doing imports until\n"
     ]
    },
    {
     "data": {
      "text/plain": [
       "('Brazil', 69.64803)"
      ]
     },
     "execution_count": 290,
     "metadata": {},
     "output_type": "execute_result"
    }
   ],
   "source": [
    "def answer_six():\n",
    "    Top15 = answer_one()\n",
    "    max_country = Top15['% Renewable'].argmax()\n",
    "    max_value = Top15['% Renewable'].max()\n",
    "    return (max_country, max_value)\n",
    "answer_six()"
   ]
  },
  {
   "cell_type": "markdown",
   "metadata": {},
   "source": [
    "### Question 7 (6.6%)\n",
    "Create a new column that is the ratio of Self-Citations to Total Citations. \n",
    "What is the maximum value for this new column, and what country has the highest ratio?\n",
    "\n",
    "*This function should return a tuple with the name of the country and the ratio.*"
   ]
  },
  {
   "cell_type": "code",
   "execution_count": 308,
   "metadata": {
    "umich_part_id": "015",
    "umich_partlist_id": "003"
   },
   "outputs": [
    {
     "name": "stderr",
     "output_type": "stream",
     "text": [
      "/Users/baiyiwei/opt/anaconda3/lib/python3.7/site-packages/ipykernel_launcher.py:4: FutureWarning: \n",
      "The current behaviour of 'Series.argmax' is deprecated, use 'idxmax'\n",
      "instead.\n",
      "The behavior of 'argmax' will be corrected to return the positional\n",
      "maximum in the future. For now, use 'series.values.argmax' or\n",
      "'np.argmax(np.array(values))' to get the position of the maximum\n",
      "row.\n",
      "  after removing the cwd from sys.path.\n"
     ]
    },
    {
     "data": {
      "text/plain": [
       "('China', 0.6841418704745127)"
      ]
     },
     "execution_count": 308,
     "metadata": {},
     "output_type": "execute_result"
    }
   ],
   "source": [
    "def answer_seven():\n",
    "    Top15 = answer_one()\n",
    "    Top15['ratio of Self-Citations to Total Citations'] = Top15['Self-citations']/Top15['Citations']\n",
    "    return (Top15['ratio of Self-Citations to Total Citations'].argmax(), Top15['ratio of Self-Citations to Total Citations'].max())\n",
    "answer_seven()"
   ]
  },
  {
   "cell_type": "markdown",
   "metadata": {},
   "source": [
    "### Question 8 (6.6%)\n",
    "\n",
    "Create a column that estimates the population using Energy Supply and Energy Supply per capita. \n",
    "What is the third most populous country according to this estimate?\n",
    "\n",
    "*This function should return a single string value.*"
   ]
  },
  {
   "cell_type": "code",
   "execution_count": 325,
   "metadata": {
    "umich_part_id": "016",
    "umich_partlist_id": "003"
   },
   "outputs": [
    {
     "data": {
      "text/plain": [
       "'United States'"
      ]
     },
     "execution_count": 325,
     "metadata": {},
     "output_type": "execute_result"
    }
   ],
   "source": [
    "def answer_eight():\n",
    "    Top15 = answer_one()\n",
    "    Top15['Est_Pop'] = Top15['Energy Supply']/Top15['Energy Supply per Capita']\n",
    "    Top15 = Top15.sort_values(['Est_Pop'], ascending = False)\n",
    "    return Top15.index[2]\n",
    "answer_eight()"
   ]
  },
  {
   "cell_type": "markdown",
   "metadata": {},
   "source": [
    "### Question 9 (6.6%)\n",
    "Create a column that estimates the number of citable documents per person. \n",
    "What is the correlation between the number of citable documents per capita and the energy supply per capita? Use the `.corr()` method, (Pearson's correlation).\n",
    "\n",
    "*This function should return a single number.*\n",
    "\n",
    "*(Optional: Use the built-in function `plot9()` to visualize the relationship between Energy Supply per Capita vs. Citable docs per Capita)*"
   ]
  },
  {
   "cell_type": "code",
   "execution_count": 336,
   "metadata": {
    "umich_part_id": "017",
    "umich_partlist_id": "003"
   },
   "outputs": [
    {
     "data": {
      "text/plain": [
       "0.7467513245295705"
      ]
     },
     "execution_count": 336,
     "metadata": {},
     "output_type": "execute_result"
    }
   ],
   "source": [
    "def answer_nine():\n",
    "    Top15 = answer_one()\n",
    "    Top15['Est_Pop'] = Top15['Energy Supply']/Top15['Energy Supply per Capita']\n",
    "    Top15['citable documents per person'] = Top15['Citable documents']/Top15['Est_Pop']\n",
    "    Top15 = Top15.corr()\n",
    "    return Top15.loc['citable documents per person', 'Energy Supply per Capita']\n",
    "answer_nine()"
   ]
  },
  {
   "cell_type": "code",
   "execution_count": 343,
   "metadata": {},
   "outputs": [
    {
     "data": {
      "text/plain": [
       "<matplotlib.axes._subplots.AxesSubplot at 0x12579af10>"
      ]
     },
     "execution_count": 343,
     "metadata": {},
     "output_type": "execute_result"
    },
    {
     "data": {
      "image/png": "[encoded data removed]",
      "text/plain": [
       "<Figure size 432x288 with 1 Axes>"
      ]
     },
     "metadata": {
      "needs_background": "light"
     },
     "output_type": "display_data"
    }
   ],
   "source": [
    "def plot9():\n",
    "    import matplotlib as plt\n",
    "    %matplotlib inline\n",
    "    \n",
    "    Top15 = answer_one()\n",
    "    Top15['PopEst'] = Top15['Energy Supply'] / Top15['Energy Supply per Capita']\n",
    "    Top15['Citable docs per Capita'] = Top15['Citable documents'] / Top15['PopEst']\n",
    "    return Top15.plot(x='Citable docs per Capita', y='Energy Supply per Capita', kind='scatter', xlim=[0, 0.0006])"
   ]
  },
  {
   "cell_type": "code",
   "execution_count": 344,
   "metadata": {},
   "outputs": [
    {
     "data": {
      "text/plain": [
       "<matplotlib.axes._subplots.AxesSubplot at 0x12451f590>"
      ]
     },
     "execution_count": 344,
     "metadata": {},
     "output_type": "execute_result"
    },
    {
     "data": {
      "image/png": "[encoded data removed]",
      "text/plain": [
       "<Figure size 432x288 with 1 Axes>"
      ]
     },
     "metadata": {
      "needs_background": "light"
     },
     "output_type": "display_data"
    }
   ],
   "source": [
    "plot9() # Be sure to comment out plot9() before submitting the assignment!"
   ]
  },
  {
   "cell_type": "markdown",
   "metadata": {},
   "source": [
    "### Question 10 (6.6%)\n",
    "Create a new column with a 1 if the country's % Renewable value is at or above the median for all countries in the top 15, and a 0 if the country's % Renewable value is below the median.\n",
    "\n",
    "*This function should return a series named `HighRenew` whose index is the country name sorted in ascending order of rank.*"
   ]
  },
  {
   "cell_type": "code",
   "execution_count": 365,
   "metadata": {
    "umich_part_id": "018",
    "umich_partlist_id": "003"
   },
   "outputs": [
    {
     "data": {
      "text/plain": [
       "Country\n",
       "China                 1\n",
       "United States         0\n",
       "Japan                 0\n",
       "India                 0\n",
       "United Kingdom        0\n",
       "Germany               1\n",
       "Russian Federation    1\n",
       "Canada                1\n",
       "Italy                 1\n",
       "South Korea           0\n",
       "France                1\n",
       "Iran                  0\n",
       "Spain                 1\n",
       "Australia             0\n",
       "Brazil                1\n",
       "Name: HighRenew, dtype: int64"
      ]
     },
     "execution_count": 365,
     "metadata": {},
     "output_type": "execute_result"
    }
   ],
   "source": [
    "def answer_ten():\n",
    "    Top15 = answer_one()\n",
    "    median = np.median(Top15['% Renewable'])\n",
    "    def compare(item):\n",
    "        if item >= median :\n",
    "            return 1\n",
    "        return 0\n",
    "    lst = list()\n",
    "    for num in Top15['% Renewable']:\n",
    "        lst.append(compare(num))  \n",
    "    Top15['HighRenew'] = lst\n",
    "    Top15 = Top15.sort_values('Rank', ascending = True)\n",
    "    return Top15['HighRenew']\n",
    "answer_ten()"
   ]
  },
  {
   "cell_type": "markdown",
   "metadata": {},
   "source": [
    "### Question 11 (6.6%)\n",
    "Use the following dictionary to group the Countries by Continent, then create a dateframe that displays the sample size (the number of countries in each continent bin), and the sum, mean, and std deviation for the estimated population of each country.\n",
    "\n",
    "```python\n",
    "ContinentDict  = {'China':'Asia', \n",
    "                  'United States':'North America', \n",
    "                  'Japan':'Asia', \n",
    "                  'United Kingdom':'Europe', \n",
    "                  'Russian Federation':'Europe', \n",
    "                  'Canada':'North America', \n",
    "                  'Germany':'Europe', \n",
    "                  'India':'Asia',\n",
    "                  'France':'Europe', \n",
    "                  'South Korea':'Asia', \n",
    "                  'Italy':'Europe', \n",
    "                  'Spain':'Europe', \n",
    "                  'Iran':'Asia',\n",
    "                  'Australia':'Australia', \n",
    "                  'Brazil':'South America'}\n",
    "```\n",
    "\n",
    "*This function should return a DataFrame with index named Continent `['Asia', 'Australia', 'Europe', 'North America', 'South America']` and columns `['size', 'sum', 'mean', 'std']`*"
   ]
  },
  {
   "cell_type": "code",
   "execution_count": 389,
   "metadata": {
    "umich_part_id": "019",
    "umich_partlist_id": "003"
   },
   "outputs": [
    {
     "name": "stderr",
     "output_type": "stream",
     "text": [
      "/Users/baiyiwei/opt/anaconda3/lib/python3.7/site-packages/ipykernel_launcher.py:24: FutureWarning: using a dict on a Series for aggregation\n",
      "is deprecated and will be removed in a future version. Use                 named aggregation instead.\n",
      "\n",
      "    >>> grouper.agg(name_1=func_1, name_2=func_2)\n",
      "\n"
     ]
    },
    {
     "data": {
      "text/html": [
       "<div>\n",
       "<style scoped>\n",
       "    .dataframe tbody tr th:only-of-type {\n",
       "        vertical-align: middle;\n",
       "    }\n",
       "\n",
       "    .dataframe tbody tr th {\n",
       "        vertical-align: top;\n",
       "    }\n",
       "\n",
       "    .dataframe thead th {\n",
       "        text-align: right;\n",
       "    }\n",
       "</style>\n",
       "<table border=\"1\" class=\"dataframe\">\n",
       "  <thead>\n",
       "    <tr style=\"text-align: right;\">\n",
       "      <th></th>\n",
       "      <th>size</th>\n",
       "      <th>sum</th>\n",
       "      <th>mean</th>\n",
       "      <th>std</th>\n",
       "    </tr>\n",
       "    <tr>\n",
       "      <th>Continent</th>\n",
       "      <th></th>\n",
       "      <th></th>\n",
       "      <th></th>\n",
       "      <th></th>\n",
       "    </tr>\n",
       "  </thead>\n",
       "  <tbody>\n",
       "    <tr>\n",
       "      <td>Asia</td>\n",
       "      <td>5.0</td>\n",
       "      <td>2.898666e+09</td>\n",
       "      <td>5.797333e+08</td>\n",
       "      <td>6.790979e+08</td>\n",
       "    </tr>\n",
       "    <tr>\n",
       "      <td>Australia</td>\n",
       "      <td>1.0</td>\n",
       "      <td>2.331602e+07</td>\n",
       "      <td>2.331602e+07</td>\n",
       "      <td>NaN</td>\n",
       "    </tr>\n",
       "    <tr>\n",
       "      <td>Europe</td>\n",
       "      <td>6.0</td>\n",
       "      <td>4.579297e+08</td>\n",
       "      <td>7.632161e+07</td>\n",
       "      <td>3.464767e+07</td>\n",
       "    </tr>\n",
       "    <tr>\n",
       "      <td>North America</td>\n",
       "      <td>2.0</td>\n",
       "      <td>3.528552e+08</td>\n",
       "      <td>1.764276e+08</td>\n",
       "      <td>1.996696e+08</td>\n",
       "    </tr>\n",
       "    <tr>\n",
       "      <td>South America</td>\n",
       "      <td>1.0</td>\n",
       "      <td>2.059153e+08</td>\n",
       "      <td>2.059153e+08</td>\n",
       "      <td>NaN</td>\n",
       "    </tr>\n",
       "  </tbody>\n",
       "</table>\n",
       "</div>"
      ],
      "text/plain": [
       "               size           sum          mean           std\n",
       "Continent                                                    \n",
       "Asia            5.0  2.898666e+09  5.797333e+08  6.790979e+08\n",
       "Australia       1.0  2.331602e+07  2.331602e+07           NaN\n",
       "Europe          6.0  4.579297e+08  7.632161e+07  3.464767e+07\n",
       "North America   2.0  3.528552e+08  1.764276e+08  1.996696e+08\n",
       "South America   1.0  2.059153e+08  2.059153e+08           NaN"
      ]
     },
     "execution_count": 389,
     "metadata": {},
     "output_type": "execute_result"
    }
   ],
   "source": [
    "def answer_eleven():\n",
    "    Top15 = answer_one()\n",
    "    ContinentDict  = {'China':'Asia', \n",
    "                  'United States':'North America', \n",
    "                  'Japan':'Asia', \n",
    "                  'United Kingdom':'Europe', \n",
    "                  'Russian Federation':'Europe', \n",
    "                  'Canada':'North America', \n",
    "                  'Germany':'Europe', \n",
    "                  'India':'Asia',\n",
    "                  'France':'Europe', \n",
    "                  'South Korea':'Asia', \n",
    "                  'Italy':'Europe', \n",
    "                  'Spain':'Europe', \n",
    "                  'Iran':'Asia',\n",
    "                  'Australia':'Australia', \n",
    "                  'Brazil':'South America'}\n",
    "    Continent = pd.DataFrame.from_dict(ContinentDict,orient = 'index', columns = ['Continent'])\n",
    "    Continent.index.name = 'Country'\n",
    "    Top15['PopEst'] = Top15['Energy Supply'] / Top15['Energy Supply per Capita']\n",
    "    Top15 = pd.merge(Continent, Top15, how = 'outer', left_index = True, right_index = True)\n",
    "    Top15 = Top15.reset_index()\n",
    "    Top15 = Top15.set_index(['Continent', 'Country'])\n",
    "    Top15 = Top15.groupby('Continent')['PopEst'].agg({'size': np.size, 'sum': np.sum, 'mean': np.mean, 'std': np.std})\n",
    "    return Top15\n",
    "answer_eleven()"
   ]
  },
  {
   "cell_type": "markdown",
   "metadata": {},
   "source": [
    "### Question 12 (6.6%)\n",
    "Cut % Renewable into 5 bins. Group Top15 by the Continent, as well as these new % Renewable bins. How many countries are in each of these groups?\n",
    "*This function should return a __Series__ with a MultiIndex of `Continent`, then the bins for `% Renewable`. Do not include groups with no countries.*"
   ]
  },
  {
   "cell_type": "code",
   "execution_count": 416,
   "metadata": {
    "scrolled": true
   },
   "outputs": [
    {
     "data": {
      "text/plain": [
       "Continent      % Renewable     \n",
       "Asia           (2.212, 15.753]     4\n",
       "               (15.753, 29.227]    1\n",
       "Australia      (2.212, 15.753]     1\n",
       "Europe         (2.212, 15.753]     1\n",
       "               (15.753, 29.227]    3\n",
       "               (29.227, 42.701]    2\n",
       "North America  (2.212, 15.753]     1\n",
       "               (56.174, 69.648]    1\n",
       "South America  (56.174, 69.648]    1\n",
       "Name: Country, dtype: int64"
      ]
     },
     "execution_count": 416,
     "metadata": {},
     "output_type": "execute_result"
    }
   ],
   "source": [
    "def answer_twelve():\n",
    "    Top15 = answer_one()\n",
    "    ContinentDict  = {'China':'Asia', \n",
    "                  'United States':'North America', \n",
    "                  'Japan':'Asia', \n",
    "                  'United Kingdom':'Europe', \n",
    "                  'Russian Federation':'Europe', \n",
    "                  'Canada':'North America', \n",
    "                  'Germany':'Europe', \n",
    "                  'India':'Asia',\n",
    "                  'France':'Europe', \n",
    "                  'South Korea':'Asia', \n",
    "                  'Italy':'Europe', \n",
    "                  'Spain':'Europe', \n",
    "                  'Iran':'Asia',\n",
    "                  'Australia':'Australia', \n",
    "                  'Brazil':'South America'}\n",
    "    Continent = pd.DataFrame.from_dict(ContinentDict,orient = 'index', columns = ['Continent'])\n",
    "    Continent.index.name = 'Country'\n",
    "    Top15 = pd.merge(Continent, Top15, how = 'outer', left_index = True, right_index = True)\n",
    "    Top15 = Top15.reset_index()\n",
    "    Top15['% Renewable'] = pd.cut(Top15['% Renewable'], 5)\n",
    "    Renew = Top15.groupby(['Continent', '% Renewable'])['Country'].count()\n",
    "    return Renew\n",
    "answer_twelve()"
   ]
  },
  {
   "cell_type": "markdown",
   "metadata": {},
   "source": [
    "### Question 13 (6.6%)\n",
    "Convert the Population Estimate series to a string with thousands separator (using commas). Do not round the results.\n",
    "\n",
    "e.g. 317615384.61538464 -> 317,615,384.61538464\n",
    "\n",
    "*This function should return a Series `PopEst` whose index is the country name and whose values are the population estimate string.*"
   ]
  },
  {
   "cell_type": "code",
   "execution_count": 420,
   "metadata": {
    "scrolled": true,
    "umich_part_id": "020",
    "umich_partlist_id": "003"
   },
   "outputs": [
    {
     "data": {
      "text/plain": [
       "Country\n",
       "Australia              23,316,017.316017315\n",
       "Brazil                 205,915,254.23728815\n",
       "Canada                  35,239,864.86486486\n",
       "China                 1,367,645,161.2903225\n",
       "France                  63,837,349.39759036\n",
       "Germany                 80,369,696.96969697\n",
       "India                 1,276,730,769.2307692\n",
       "Iran                    77,075,630.25210084\n",
       "Italy                  59,908,256.880733944\n",
       "Japan                  127,409,395.97315437\n",
       "Russian Federation            143,500,000.0\n",
       "South Korea            49,805,429.864253394\n",
       "Spain                    46,443,396.2264151\n",
       "United Kingdom         63,870,967.741935484\n",
       "United States          317,615,384.61538464\n",
       "Name: PopEst, dtype: object"
      ]
     },
     "execution_count": 420,
     "metadata": {},
     "output_type": "execute_result"
    }
   ],
   "source": [
    "def answer_thirteen():\n",
    "    Top15 = answer_one()\n",
    "    Top15['PopEst'] = Top15['Energy Supply'] / Top15['Energy Supply per Capita']\n",
    "    Top15['PopEst'] = Top15['PopEst'].apply('{:,}'.format)\n",
    "    return Top15['PopEst']\n",
    "answer_thirteen()"
   ]
  },
  {
   "cell_type": "markdown",
   "metadata": {},
   "source": [
    "### Optional\n",
    "\n",
    "Use the built in function `plot_optional()` to see an example visualization."
   ]
  },
  {
   "cell_type": "code",
   "execution_count": null,
   "metadata": {
    "collapsed": true,
    "scrolled": true
   },
   "outputs": [],
   "source": [
    "def plot_optional():\n",
    "    import matplotlib as plt\n",
    "    %matplotlib inline\n",
    "    Top15 = answer_one()\n",
    "    ax = Top15.plot(x='Rank', y='% Renewable', kind='scatter', \n",
    "                    c=['#e41a1c','#377eb8','#e41a1c','#4daf4a','#4daf4a','#377eb8','#4daf4a','#e41a1c',\n",
    "                       '#4daf4a','#e41a1c','#4daf4a','#4daf4a','#e41a1c','#dede00','#ff7f00'], \n",
    "                    xticks=range(1,16), s=6*Top15['2014']/10**10, alpha=.75, figsize=[16,6]);\n",
    "\n",
    "    for i, txt in enumerate(Top15.index):\n",
    "        ax.annotate(txt, [Top15['Rank'][i], Top15['% Renewable'][i]], ha='center')\n",
    "\n",
    "    print(\"This is an example of a visualization that can be created to help understand the data. \\\n",
    "This is a bubble chart showing % Renewable vs. Rank. The size of the bubble corresponds to the countries' \\\n",
    "2014 GDP, and the color corresponds to the continent.\")"
   ]
  },
  {
   "cell_type": "code",
   "execution_count": null,
   "metadata": {
    "collapsed": true
   },
   "outputs": [],
   "source": [
    "#plot_optional() # Be sure to comment out plot_optional() before submitting the assignment!"
   ]
  }
 ],
 "metadata": {
  "anaconda-cloud": {},
  "coursera": {
   "course_slug": "python-data-analysis",
   "graded_item_id": "zAr06",
   "launcher_item_id": "KSSjT",
   "part_id": "SL3fU"
  },
  "kernelspec": {
   "display_name": "Python 3",
   "language": "python",
   "name": "python3"
  },
  "language_info": {
   "codemirror_mode": {
    "name": "ipython",
    "version": 3
   },
   "file_extension": ".py",
   "mimetype": "text/x-python",
   "name": "python",
   "nbconvert_exporter": "python",
   "pygments_lexer": "ipython3",
   "version": "3.7.4"
  },
  "umich": {
   "id": "Assignment 3",
   "version": "1.5"
  }
 },
 "nbformat": 4,
 "nbformat_minor": 1
}
